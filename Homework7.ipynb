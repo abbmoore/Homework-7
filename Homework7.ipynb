{
  "nbformat": 4,
  "nbformat_minor": 0,
  "metadata": {
    "colab": {
      "provenance": []
    },
    "kernelspec": {
      "name": "python3",
      "display_name": "Python 3"
    },
    "language_info": {
      "name": "python"
    }
  },
  "cells": [
    {
      "cell_type": "code",
      "execution_count": 96,
      "metadata": {
        "id": "0nLiG6ieXR9i"
      },
      "outputs": [],
      "source": [
        "#Import \n",
        "import pandas as pd\n",
        "import numpy as np\n",
        "import statistics\n"
      ]
    },
    {
      "cell_type": "code",
      "source": [
        "#import datasets\n",
        "df = pd.read_csv(\"/content/AwardsManagers.csv\")\n",
        "\n",
        "#Print dataframe\n",
        "print(df)\n"
      ],
      "metadata": {
        "colab": {
          "base_uri": "https://localhost:8080/"
        },
        "id": "Xf-nl_LVXypD",
        "outputId": "6d4f613f-4088-4d1b-ddcd-d7727e735dfe"
      },
      "execution_count": 21,
      "outputs": [
        {
          "output_type": "stream",
          "name": "stdout",
          "text": [
            "      playerID                    awardID  yearID lgID  tie notes\n",
            "0    larusto01  BBWAA Manager of the Year    1983   AL  NaN   NaN\n",
            "1    lasorto01  BBWAA Manager of the Year    1983   NL  NaN   NaN\n",
            "2    andersp01  BBWAA Manager of the Year    1984   AL  NaN   NaN\n",
            "3     freyji99  BBWAA Manager of the Year    1984   NL  NaN   NaN\n",
            "4      coxbo01  BBWAA Manager of the Year    1985   AL  NaN   NaN\n",
            "..         ...                        ...     ...  ...  ...   ...\n",
            "174  willima04  BBWAA Manager of the Year    2014   NL  NaN   NaN\n",
            "175  banisje01  BBWAA Manager of the Year    2015   AL  NaN   NaN\n",
            "176  maddojo99  BBWAA Manager of the Year    2015   NL  NaN   NaN\n",
            "177  francte01  BBWAA Manager of the Year    2016   AL  NaN    \\t\n",
            "178  roberda07  BBWAA Manager of the Year    2016   NL  NaN   NaN\n",
            "\n",
            "[179 rows x 6 columns]\n"
          ]
        }
      ]
    },
    {
      "cell_type": "markdown",
      "source": [],
      "metadata": {
        "id": "TVe3_jKtjIef"
      }
    },
    {
      "cell_type": "code",
      "source": [
        "df['tie_cleaned'] = df.loc[:, 'tie']\n",
        "\n",
        "print(df)"
      ],
      "metadata": {
        "colab": {
          "base_uri": "https://localhost:8080/"
        },
        "id": "Nmt7Ng4kdGrZ",
        "outputId": "b48d658f-cdb0-433a-d7c5-0b32f6396d37"
      },
      "execution_count": 22,
      "outputs": [
        {
          "output_type": "stream",
          "name": "stdout",
          "text": [
            "      playerID                    awardID  yearID lgID  tie notes tie_cleaned\n",
            "0    larusto01  BBWAA Manager of the Year    1983   AL  NaN   NaN         NaN\n",
            "1    lasorto01  BBWAA Manager of the Year    1983   NL  NaN   NaN         NaN\n",
            "2    andersp01  BBWAA Manager of the Year    1984   AL  NaN   NaN         NaN\n",
            "3     freyji99  BBWAA Manager of the Year    1984   NL  NaN   NaN         NaN\n",
            "4      coxbo01  BBWAA Manager of the Year    1985   AL  NaN   NaN         NaN\n",
            "..         ...                        ...     ...  ...  ...   ...         ...\n",
            "174  willima04  BBWAA Manager of the Year    2014   NL  NaN   NaN         NaN\n",
            "175  banisje01  BBWAA Manager of the Year    2015   AL  NaN   NaN         NaN\n",
            "176  maddojo99  BBWAA Manager of the Year    2015   NL  NaN   NaN         NaN\n",
            "177  francte01  BBWAA Manager of the Year    2016   AL  NaN    \\t         NaN\n",
            "178  roberda07  BBWAA Manager of the Year    2016   NL  NaN   NaN         NaN\n",
            "\n",
            "[179 rows x 7 columns]\n"
          ]
        }
      ]
    },
    {
      "cell_type": "code",
      "source": [
        "#Finding Missing values\n",
        "\n",
        "num_rows = df.shape[0]\n",
        "\n",
        "num_missing = num_rows - df.count()\n",
        "\n",
        "print(num_missing)"
      ],
      "metadata": {
        "colab": {
          "base_uri": "https://localhost:8080/"
        },
        "id": "VV3TkSeXYnsb",
        "outputId": "2eba3279-8a3a-4c2d-f386-565948bfc960"
      },
      "execution_count": 23,
      "outputs": [
        {
          "output_type": "stream",
          "name": "stdout",
          "text": [
            "playerID         0\n",
            "awardID          0\n",
            "yearID           0\n",
            "lgID             0\n",
            "tie            177\n",
            "notes          178\n",
            "tie_cleaned    177\n",
            "dtype: int64\n"
          ]
        }
      ]
    },
    {
      "cell_type": "code",
      "source": [
        "#Cleaned NA out of tie column to be no\n",
        "df.fillna(\"No\").iloc[0:10, 0:7] "
      ],
      "metadata": {
        "colab": {
          "base_uri": "https://localhost:8080/",
          "height": 363
        },
        "id": "wepws_loc0V6",
        "outputId": "500d6782-6c2d-40fa-c684-aaba4ddfc2d5"
      },
      "execution_count": 24,
      "outputs": [
        {
          "output_type": "execute_result",
          "data": {
            "text/plain": [
              "    playerID                    awardID  yearID lgID tie notes tie_cleaned\n",
              "0  larusto01  BBWAA Manager of the Year    1983   AL  No    No          No\n",
              "1  lasorto01  BBWAA Manager of the Year    1983   NL  No    No          No\n",
              "2  andersp01  BBWAA Manager of the Year    1984   AL  No    No          No\n",
              "3   freyji99  BBWAA Manager of the Year    1984   NL  No    No          No\n",
              "4    coxbo01  BBWAA Manager of the Year    1985   AL  No    No          No\n",
              "5  herzowh01  BBWAA Manager of the Year    1985   NL  No    No          No\n",
              "6  mcnamjo99  BBWAA Manager of the Year    1986   AL  No    No          No\n",
              "7  lanieha01  BBWAA Manager of the Year    1986   NL  No    No          No\n",
              "8  andersp01  BBWAA Manager of the Year    1987   AL  No    No          No\n",
              "9  rodgebu01  BBWAA Manager of the Year    1987   NL  No    No          No"
            ],
            "text/html": [
              "\n",
              "  <div id=\"df-b9abb34a-ca05-44e0-981b-510d4c91525c\">\n",
              "    <div class=\"colab-df-container\">\n",
              "      <div>\n",
              "<style scoped>\n",
              "    .dataframe tbody tr th:only-of-type {\n",
              "        vertical-align: middle;\n",
              "    }\n",
              "\n",
              "    .dataframe tbody tr th {\n",
              "        vertical-align: top;\n",
              "    }\n",
              "\n",
              "    .dataframe thead th {\n",
              "        text-align: right;\n",
              "    }\n",
              "</style>\n",
              "<table border=\"1\" class=\"dataframe\">\n",
              "  <thead>\n",
              "    <tr style=\"text-align: right;\">\n",
              "      <th></th>\n",
              "      <th>playerID</th>\n",
              "      <th>awardID</th>\n",
              "      <th>yearID</th>\n",
              "      <th>lgID</th>\n",
              "      <th>tie</th>\n",
              "      <th>notes</th>\n",
              "      <th>tie_cleaned</th>\n",
              "    </tr>\n",
              "  </thead>\n",
              "  <tbody>\n",
              "    <tr>\n",
              "      <th>0</th>\n",
              "      <td>larusto01</td>\n",
              "      <td>BBWAA Manager of the Year</td>\n",
              "      <td>1983</td>\n",
              "      <td>AL</td>\n",
              "      <td>No</td>\n",
              "      <td>No</td>\n",
              "      <td>No</td>\n",
              "    </tr>\n",
              "    <tr>\n",
              "      <th>1</th>\n",
              "      <td>lasorto01</td>\n",
              "      <td>BBWAA Manager of the Year</td>\n",
              "      <td>1983</td>\n",
              "      <td>NL</td>\n",
              "      <td>No</td>\n",
              "      <td>No</td>\n",
              "      <td>No</td>\n",
              "    </tr>\n",
              "    <tr>\n",
              "      <th>2</th>\n",
              "      <td>andersp01</td>\n",
              "      <td>BBWAA Manager of the Year</td>\n",
              "      <td>1984</td>\n",
              "      <td>AL</td>\n",
              "      <td>No</td>\n",
              "      <td>No</td>\n",
              "      <td>No</td>\n",
              "    </tr>\n",
              "    <tr>\n",
              "      <th>3</th>\n",
              "      <td>freyji99</td>\n",
              "      <td>BBWAA Manager of the Year</td>\n",
              "      <td>1984</td>\n",
              "      <td>NL</td>\n",
              "      <td>No</td>\n",
              "      <td>No</td>\n",
              "      <td>No</td>\n",
              "    </tr>\n",
              "    <tr>\n",
              "      <th>4</th>\n",
              "      <td>coxbo01</td>\n",
              "      <td>BBWAA Manager of the Year</td>\n",
              "      <td>1985</td>\n",
              "      <td>AL</td>\n",
              "      <td>No</td>\n",
              "      <td>No</td>\n",
              "      <td>No</td>\n",
              "    </tr>\n",
              "    <tr>\n",
              "      <th>5</th>\n",
              "      <td>herzowh01</td>\n",
              "      <td>BBWAA Manager of the Year</td>\n",
              "      <td>1985</td>\n",
              "      <td>NL</td>\n",
              "      <td>No</td>\n",
              "      <td>No</td>\n",
              "      <td>No</td>\n",
              "    </tr>\n",
              "    <tr>\n",
              "      <th>6</th>\n",
              "      <td>mcnamjo99</td>\n",
              "      <td>BBWAA Manager of the Year</td>\n",
              "      <td>1986</td>\n",
              "      <td>AL</td>\n",
              "      <td>No</td>\n",
              "      <td>No</td>\n",
              "      <td>No</td>\n",
              "    </tr>\n",
              "    <tr>\n",
              "      <th>7</th>\n",
              "      <td>lanieha01</td>\n",
              "      <td>BBWAA Manager of the Year</td>\n",
              "      <td>1986</td>\n",
              "      <td>NL</td>\n",
              "      <td>No</td>\n",
              "      <td>No</td>\n",
              "      <td>No</td>\n",
              "    </tr>\n",
              "    <tr>\n",
              "      <th>8</th>\n",
              "      <td>andersp01</td>\n",
              "      <td>BBWAA Manager of the Year</td>\n",
              "      <td>1987</td>\n",
              "      <td>AL</td>\n",
              "      <td>No</td>\n",
              "      <td>No</td>\n",
              "      <td>No</td>\n",
              "    </tr>\n",
              "    <tr>\n",
              "      <th>9</th>\n",
              "      <td>rodgebu01</td>\n",
              "      <td>BBWAA Manager of the Year</td>\n",
              "      <td>1987</td>\n",
              "      <td>NL</td>\n",
              "      <td>No</td>\n",
              "      <td>No</td>\n",
              "      <td>No</td>\n",
              "    </tr>\n",
              "  </tbody>\n",
              "</table>\n",
              "</div>\n",
              "      <button class=\"colab-df-convert\" onclick=\"convertToInteractive('df-b9abb34a-ca05-44e0-981b-510d4c91525c')\"\n",
              "              title=\"Convert this dataframe to an interactive table.\"\n",
              "              style=\"display:none;\">\n",
              "        \n",
              "  <svg xmlns=\"http://www.w3.org/2000/svg\" height=\"24px\"viewBox=\"0 0 24 24\"\n",
              "       width=\"24px\">\n",
              "    <path d=\"M0 0h24v24H0V0z\" fill=\"none\"/>\n",
              "    <path d=\"M18.56 5.44l.94 2.06.94-2.06 2.06-.94-2.06-.94-.94-2.06-.94 2.06-2.06.94zm-11 1L8.5 8.5l.94-2.06 2.06-.94-2.06-.94L8.5 2.5l-.94 2.06-2.06.94zm10 10l.94 2.06.94-2.06 2.06-.94-2.06-.94-.94-2.06-.94 2.06-2.06.94z\"/><path d=\"M17.41 7.96l-1.37-1.37c-.4-.4-.92-.59-1.43-.59-.52 0-1.04.2-1.43.59L10.3 9.45l-7.72 7.72c-.78.78-.78 2.05 0 2.83L4 21.41c.39.39.9.59 1.41.59.51 0 1.02-.2 1.41-.59l7.78-7.78 2.81-2.81c.8-.78.8-2.07 0-2.86zM5.41 20L4 18.59l7.72-7.72 1.47 1.35L5.41 20z\"/>\n",
              "  </svg>\n",
              "      </button>\n",
              "      \n",
              "  <style>\n",
              "    .colab-df-container {\n",
              "      display:flex;\n",
              "      flex-wrap:wrap;\n",
              "      gap: 12px;\n",
              "    }\n",
              "\n",
              "    .colab-df-convert {\n",
              "      background-color: #E8F0FE;\n",
              "      border: none;\n",
              "      border-radius: 50%;\n",
              "      cursor: pointer;\n",
              "      display: none;\n",
              "      fill: #1967D2;\n",
              "      height: 32px;\n",
              "      padding: 0 0 0 0;\n",
              "      width: 32px;\n",
              "    }\n",
              "\n",
              "    .colab-df-convert:hover {\n",
              "      background-color: #E2EBFA;\n",
              "      box-shadow: 0px 1px 2px rgba(60, 64, 67, 0.3), 0px 1px 3px 1px rgba(60, 64, 67, 0.15);\n",
              "      fill: #174EA6;\n",
              "    }\n",
              "\n",
              "    [theme=dark] .colab-df-convert {\n",
              "      background-color: #3B4455;\n",
              "      fill: #D2E3FC;\n",
              "    }\n",
              "\n",
              "    [theme=dark] .colab-df-convert:hover {\n",
              "      background-color: #434B5C;\n",
              "      box-shadow: 0px 1px 3px 1px rgba(0, 0, 0, 0.15);\n",
              "      filter: drop-shadow(0px 1px 2px rgba(0, 0, 0, 0.3));\n",
              "      fill: #FFFFFF;\n",
              "    }\n",
              "  </style>\n",
              "\n",
              "      <script>\n",
              "        const buttonEl =\n",
              "          document.querySelector('#df-b9abb34a-ca05-44e0-981b-510d4c91525c button.colab-df-convert');\n",
              "        buttonEl.style.display =\n",
              "          google.colab.kernel.accessAllowed ? 'block' : 'none';\n",
              "\n",
              "        async function convertToInteractive(key) {\n",
              "          const element = document.querySelector('#df-b9abb34a-ca05-44e0-981b-510d4c91525c');\n",
              "          const dataTable =\n",
              "            await google.colab.kernel.invokeFunction('convertToInteractive',\n",
              "                                                     [key], {});\n",
              "          if (!dataTable) return;\n",
              "\n",
              "          const docLinkHtml = 'Like what you see? Visit the ' +\n",
              "            '<a target=\"_blank\" href=https://colab.research.google.com/notebooks/data_table.ipynb>data table notebook</a>'\n",
              "            + ' to learn more about interactive tables.';\n",
              "          element.innerHTML = '';\n",
              "          dataTable['output_type'] = 'display_data';\n",
              "          await google.colab.output.renderOutput(dataTable, element);\n",
              "          const docLink = document.createElement('div');\n",
              "          docLink.innerHTML = docLinkHtml;\n",
              "          element.appendChild(docLink);\n",
              "        }\n",
              "      </script>\n",
              "    </div>\n",
              "  </div>\n",
              "  "
            ]
          },
          "metadata": {},
          "execution_count": 24
        }
      ]
    },
    {
      "cell_type": "code",
      "source": [
        "#Define Functions\n",
        "\n",
        "#Mean function\n",
        "\n",
        "#Sum Function\n",
        "\n",
        "#Mode Function\n",
        "\n",
        "#Median Function\n",
        "\n",
        "#Range function\n"
      ],
      "metadata": {
        "id": "L8k86yJef_8R"
      },
      "execution_count": null,
      "outputs": []
    },
    {
      "cell_type": "code",
      "source": [
        "#apply() does not work in my dataset and I cannot find a dataset that I have where it was applicable."
      ],
      "metadata": {
        "id": "RZ6w5py7p7D0"
      },
      "execution_count": null,
      "outputs": []
    },
    {
      "cell_type": "code",
      "source": [
        "#Sum function\n",
        "def my_sum(x):\n",
        "#Sum of values\n",
        "    return sum(x)"
      ],
      "metadata": {
        "id": "tjehjh3QiQqQ"
      },
      "execution_count": 75,
      "outputs": []
    },
    {
      "cell_type": "code",
      "source": [
        "#Sum of yearID values\n",
        "print(df['yearID'].sum())"
      ],
      "metadata": {
        "colab": {
          "base_uri": "https://localhost:8080/"
        },
        "id": "YEDC2lAgrYCE",
        "outputId": "2cfe82b1-ca62-4b23-9d0d-58d7629d3cb8"
      },
      "execution_count": 70,
      "outputs": [
        {
          "output_type": "stream",
          "name": "stdout",
          "text": [
            "356017\n"
          ]
        }
      ]
    },
    {
      "cell_type": "code",
      "source": [
        "#Apply function that is not applicable to dataset\n",
        "sums = df['yearID'].apply(my_sum)\n",
        "\n",
        "print(sums)"
      ],
      "metadata": {
        "id": "95N6xHomqgfc"
      },
      "execution_count": null,
      "outputs": []
    },
    {
      "cell_type": "code",
      "source": [
        "#Mean Function\n",
        "def my_mean(x):\n",
        "  #mean of values\n",
        "    return sum(x) / len(x)\n"
      ],
      "metadata": {
        "id": "dXnPl6C9rkgr"
      },
      "execution_count": 92,
      "outputs": []
    },
    {
      "cell_type": "code",
      "source": [
        "#Apply function that is not applicable to dataset\n",
        "the_mean = df['yearID'].apply(my_mean)\n",
        "\n",
        "print(the_mean)"
      ],
      "metadata": {
        "id": "hngEl75ksHY0"
      },
      "execution_count": null,
      "outputs": []
    },
    {
      "cell_type": "code",
      "source": [
        "#Mean of yearID\n",
        "print(df['yearID'].mean())"
      ],
      "metadata": {
        "colab": {
          "base_uri": "https://localhost:8080/"
        },
        "id": "qt3srngbr9sU",
        "outputId": "5c15a6be-6bd7-4a4d-d74d-c5d0497afd30"
      },
      "execution_count": 72,
      "outputs": [
        {
          "output_type": "stream",
          "name": "stdout",
          "text": [
            "1988.9217877094973\n"
          ]
        }
      ]
    },
    {
      "cell_type": "code",
      "source": [
        "#Mode Function\n",
        "def my_mode(x):\n",
        "#Sum of values\n",
        "    return statistics.mode(x)"
      ],
      "metadata": {
        "id": "-X2V7iGftLij"
      },
      "execution_count": 101,
      "outputs": []
    },
    {
      "cell_type": "code",
      "source": [
        "#Apply function that is not applicable to dataset\n",
        "the_mode = df['yearID'].apply(my_mode)\n",
        "\n",
        "print(the_mode)"
      ],
      "metadata": {
        "id": "bZo8Ks0EtXiT"
      },
      "execution_count": null,
      "outputs": []
    },
    {
      "cell_type": "code",
      "source": [
        "#Mode of yearID\n",
        "print(df['yearID'].mode())"
      ],
      "metadata": {
        "colab": {
          "base_uri": "https://localhost:8080/"
        },
        "id": "0XV8z0iAtrZ7",
        "outputId": "53e73677-8c58-44c4-e7b7-f56e343082ed"
      },
      "execution_count": 104,
      "outputs": [
        {
          "output_type": "stream",
          "name": "stdout",
          "text": [
            "0    1996\n",
            "dtype: int64\n"
          ]
        }
      ]
    },
    {
      "cell_type": "code",
      "source": [
        "#Median Function\n",
        "def my_median(x):\n",
        "\n",
        "    return statistics.median(x)"
      ],
      "metadata": {
        "id": "8nJq8JkttwCb"
      },
      "execution_count": 108,
      "outputs": []
    },
    {
      "cell_type": "code",
      "source": [
        "#Apply function that is not applicable to dataset\n",
        "the_median = df['yearID'].apply(my_median)\n",
        "\n",
        "print(the_median)"
      ],
      "metadata": {
        "id": "IfFl8lNOt6WF"
      },
      "execution_count": null,
      "outputs": []
    },
    {
      "cell_type": "code",
      "source": [
        "#Median of yearID\n",
        "print(df['yearID'].median())"
      ],
      "metadata": {
        "colab": {
          "base_uri": "https://localhost:8080/"
        },
        "id": "g_RWoQc6t6Ms",
        "outputId": "edd1d86d-742f-4234-9e11-f25a87e6d300"
      },
      "execution_count": 110,
      "outputs": [
        {
          "output_type": "stream",
          "name": "stdout",
          "text": [
            "1994.0\n"
          ]
        }
      ]
    },
    {
      "cell_type": "code",
      "source": [
        "#Range function\n",
        "def my_range(x):\n",
        "\n",
        "    return max(x) - min(x)"
      ],
      "metadata": {
        "id": "nhWp9aGpt6Ar"
      },
      "execution_count": 116,
      "outputs": []
    },
    {
      "cell_type": "code",
      "source": [
        "#Apply function that is not applicable to dataset\n",
        "the_range = df['yearID'].apply(my_range)\n",
        "\n",
        "print(the_range)"
      ],
      "metadata": {
        "id": "4oJGBFobuJLq"
      },
      "execution_count": null,
      "outputs": []
    },
    {
      "cell_type": "code",
      "source": [
        "#Range of yearID\n",
        "print(df['yearID'].max() - df['yearID'].min())"
      ],
      "metadata": {
        "colab": {
          "base_uri": "https://localhost:8080/"
        },
        "id": "1l9JTxcnuJdk",
        "outputId": "44ef0156-cd7f-4e4a-d635-f2aa27a09e48"
      },
      "execution_count": 120,
      "outputs": [
        {
          "output_type": "stream",
          "name": "stdout",
          "text": [
            "80\n"
          ]
        }
      ]
    }
  ]
}